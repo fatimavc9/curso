{
  "nbformat": 4,
  "nbformat_minor": 0,
  "metadata": {
    "colab": {
      "name": "Dia 1.ipynb",
      "provenance": [],
      "toc_visible": true
    },
    "kernelspec": {
      "name": "python3",
      "display_name": "Python 3"
    },
    "language_info": {
      "name": "python"
    }
  },
  "cells": [
    {
      "cell_type": "markdown",
      "metadata": {
        "id": "I6H3r2soOnG9"
      },
      "source": [
        "## **Tipo de datos**"
      ]
    },
    {
      "cell_type": "code",
      "metadata": {
        "colab": {
          "base_uri": "https://localhost:8080/"
        },
        "id": "17o_KfHEBrIu",
        "outputId": "ae38735a-3eba-4836-cc7f-15b3ad3b61a6"
      },
      "source": [
        "a=7\n",
        "type(a)"
      ],
      "execution_count": null,
      "outputs": [
        {
          "output_type": "execute_result",
          "data": {
            "text/plain": [
              "int"
            ]
          },
          "metadata": {
            "tags": []
          },
          "execution_count": 1
        }
      ]
    },
    {
      "cell_type": "code",
      "metadata": {
        "colab": {
          "base_uri": "https://localhost:8080/"
        },
        "id": "LGpUqGNbCC-u",
        "outputId": "c34f95e8-ab21-4c3f-af9b-32d8f723d43e"
      },
      "source": [
        "flotante=8.5\n",
        "int(flotante)\n",
        "type(flotante)"
      ],
      "execution_count": null,
      "outputs": [
        {
          "output_type": "execute_result",
          "data": {
            "text/plain": [
              "float"
            ]
          },
          "metadata": {
            "tags": []
          },
          "execution_count": 2
        }
      ]
    },
    {
      "cell_type": "code",
      "metadata": {
        "colab": {
          "base_uri": "https://localhost:8080/"
        },
        "id": "74WnNgxnCKIu",
        "outputId": "9e286c4a-4edd-4fb4-aeb2-2ae709c77912"
      },
      "source": [
        "bool1=True\n",
        "bool2=False\n",
        "\n",
        "string='texto1'\n",
        "complejo=7+5j\n",
        "type(complejo)"
      ],
      "execution_count": null,
      "outputs": [
        {
          "output_type": "execute_result",
          "data": {
            "text/plain": [
              "complex"
            ]
          },
          "metadata": {
            "tags": []
          },
          "execution_count": 4
        }
      ]
    },
    {
      "cell_type": "code",
      "metadata": {
        "colab": {
          "base_uri": "https://localhost:8080/"
        },
        "id": "NO7wgt2fDY2_",
        "outputId": "f2dbc20e-42f4-43c4-f9f6-ea94d9b2a873"
      },
      "source": [
        "print(not True and not False)"
      ],
      "execution_count": null,
      "outputs": [
        {
          "output_type": "stream",
          "text": [
            "False\n"
          ],
          "name": "stdout"
        }
      ]
    },
    {
      "cell_type": "markdown",
      "metadata": {
        "id": "_avg7uN-OxYj"
      },
      "source": [
        "# **Sentencias if**"
      ]
    },
    {
      "cell_type": "code",
      "metadata": {
        "colab": {
          "base_uri": "https://localhost:8080/"
        },
        "id": "yWwpdJtcD-jP",
        "outputId": "31044c1d-6a42-44c6-d987-eb5032f78380"
      },
      "source": [
        "print(\"Inicia un programa\")\n",
        "print(\"Seleccione la opción deseada\")\n",
        "print(\"Opción 1\")\n",
        "print(\"Opción 2 \")\n",
        "print(\"Opción 3 \")\n",
        "\n",
        "opcion=int(input(\"Selecciones una opción:\"))\n",
        "\n",
        "if opcion == 1:\n",
        "  print('elegiste la opción 1')\n",
        "elif opcion == 2:\n",
        "  print('Elegiste la opcion 2')\n",
        "elif opcion == 3:\n",
        "  print('Elegiste la opcion 3')\n"
      ],
      "execution_count": null,
      "outputs": [
        {
          "output_type": "stream",
          "text": [
            "Inicia un programa\n",
            "Seleccione la opción deseada\n",
            "Opción 1\n",
            "Opción 2 \n",
            "Opción 3 \n",
            "Selecciones una opción:1\n",
            "elegiste la opción 1\n"
          ],
          "name": "stdout"
        }
      ]
    },
    {
      "cell_type": "markdown",
      "metadata": {
        "id": "LMsNprjiO31p"
      },
      "source": [
        "#**Listas y bucles for**\n"
      ]
    },
    {
      "cell_type": "markdown",
      "metadata": {
        "id": "EiWgLVQSHSi6"
      },
      "source": [
        "  Una lista es una estructura de datos que puede almacenar, strings, enteros, flotantes, complejos, tambié, almacena otras estructuras de datos co0mo, otras listas, diccionarios y tuplas"
      ]
    },
    {
      "cell_type": "code",
      "metadata": {
        "id": "g4L2iyXdHMMN"
      },
      "source": [
        "lista = [1,2,3,4,5,6,7,8,9]"
      ],
      "execution_count": null,
      "outputs": []
    },
    {
      "cell_type": "code",
      "metadata": {
        "colab": {
          "base_uri": "https://localhost:8080/"
        },
        "id": "S55ll2jZH_LQ",
        "outputId": "b45c6338-d178-4d16-e098-0da0c6407925"
      },
      "source": [
        "lista.append(63)\n",
        "lista"
      ],
      "execution_count": null,
      "outputs": [
        {
          "output_type": "execute_result",
          "data": {
            "text/plain": [
              "[1, 2, 3, 4, 5, 6, 7, 8, 9, 63]"
            ]
          },
          "metadata": {
            "tags": []
          },
          "execution_count": 11
        }
      ]
    },
    {
      "cell_type": "code",
      "metadata": {
        "id": "-JvxM3_tIE-E"
      },
      "source": [
        "lista.extend([3,4,5,7])"
      ],
      "execution_count": null,
      "outputs": []
    },
    {
      "cell_type": "code",
      "metadata": {
        "colab": {
          "base_uri": "https://localhost:8080/"
        },
        "id": "uWxwUOgxISOs",
        "outputId": "65e41f9c-8c6b-4b57-fb6b-c5866a9717bc"
      },
      "source": [
        "lista"
      ],
      "execution_count": null,
      "outputs": [
        {
          "output_type": "execute_result",
          "data": {
            "text/plain": [
              "[1, 2, 3, 4, 5, 6, 7, 8, 9, 63, 3, 4, 5, 7]"
            ]
          },
          "metadata": {
            "tags": []
          },
          "execution_count": 13
        }
      ]
    },
    {
      "cell_type": "code",
      "metadata": {
        "colab": {
          "base_uri": "https://localhost:8080/"
        },
        "id": "a-qEUfiCITp4",
        "outputId": "81ac1f08-d77e-4038-db7c-ad475282a9e2"
      },
      "source": [
        "copy_list=lista.copy()\n",
        "copy_list"
      ],
      "execution_count": null,
      "outputs": [
        {
          "output_type": "execute_result",
          "data": {
            "text/plain": [
              "[1, 2, 3, 4, 5, 6, 7, 8, 9, 63, 3, 4, 5, 7]"
            ]
          },
          "metadata": {
            "tags": []
          },
          "execution_count": 16
        }
      ]
    },
    {
      "cell_type": "code",
      "metadata": {
        "colab": {
          "base_uri": "https://localhost:8080/"
        },
        "id": "g1tOWgVkIkwc",
        "outputId": "7e1cc681-5960-4d63-c340-2c9e312d3ebb"
      },
      "source": [
        "copy_list[1:6]"
      ],
      "execution_count": null,
      "outputs": [
        {
          "output_type": "execute_result",
          "data": {
            "text/plain": [
              "[2, 3, 4, 5, 6]"
            ]
          },
          "metadata": {
            "tags": []
          },
          "execution_count": 17
        }
      ]
    },
    {
      "cell_type": "code",
      "metadata": {
        "colab": {
          "base_uri": "https://localhost:8080/"
        },
        "id": "aQDL3Pi_JyxF",
        "outputId": "ddf23f81-78c2-4690-cec8-577a1b589419"
      },
      "source": [
        "copy_list.insert(0, 50)\n",
        "copy_list"
      ],
      "execution_count": null,
      "outputs": [
        {
          "output_type": "execute_result",
          "data": {
            "text/plain": [
              "[50, 50, 1, 2, 3, 4, 5, 6, 7, 8, 9, 63, 3, 4, 5, 7]"
            ]
          },
          "metadata": {
            "tags": []
          },
          "execution_count": 19
        }
      ]
    },
    {
      "cell_type": "code",
      "metadata": {
        "colab": {
          "base_uri": "https://localhost:8080/"
        },
        "id": "8tYo0BSIJ4LC",
        "outputId": "28afbd42-a3af-4563-9ab9-feb30fb3c456"
      },
      "source": [
        "lista[0]\n",
        "#for i in copy_list:\n",
        " # print(i)"
      ],
      "execution_count": null,
      "outputs": [
        {
          "output_type": "execute_result",
          "data": {
            "text/plain": [
              "1"
            ]
          },
          "metadata": {
            "tags": []
          },
          "execution_count": 21
        }
      ]
    },
    {
      "cell_type": "code",
      "metadata": {
        "colab": {
          "base_uri": "https://localhost:8080/"
        },
        "id": "gWBNsO5mKFYr",
        "outputId": "b936dce6-26b0-44d5-a7aa-6b4b1e6c4e6c"
      },
      "source": [
        "for j in range(0, len(copy_list)-1):\n",
        "  print(copy_list[j])\n",
        "  if copy_list[j] == 63:\n",
        "    break"
      ],
      "execution_count": null,
      "outputs": [
        {
          "output_type": "stream",
          "text": [
            "50\n",
            "50\n",
            "1\n",
            "2\n",
            "3\n",
            "4\n",
            "5\n",
            "6\n",
            "7\n",
            "8\n",
            "9\n",
            "63\n"
          ],
          "name": "stdout"
        }
      ]
    },
    {
      "cell_type": "code",
      "metadata": {
        "id": "p0SiqRwSLo9p"
      },
      "source": [
        "lista_compleja=['hola', 1,2,3,4,5, [34,5,6], {\"1\":1,\"2\":2}, 8.0,9.0, True, 7 + 6j]"
      ],
      "execution_count": 2,
      "outputs": []
    },
    {
      "cell_type": "code",
      "metadata": {
        "colab": {
          "base_uri": "https://localhost:8080/"
        },
        "id": "vMUOnewSMSKj",
        "outputId": "2b3c1d45-23eb-40b6-b5dd-58f6375e2482"
      },
      "source": [
        "for index in range(0, len(lista_compleja)-1):\n",
        "  if type(lista_compleja[index]) == list:\n",
        "    a = lista_compleja[index]\n",
        "print(a)"
      ],
      "execution_count": 3,
      "outputs": [
        {
          "output_type": "stream",
          "text": [
            "[34, 5, 6]\n"
          ],
          "name": "stdout"
        }
      ]
    },
    {
      "cell_type": "code",
      "metadata": {
        "colab": {
          "base_uri": "https://localhost:8080/"
        },
        "id": "cV394lAaFJ_s",
        "outputId": "9043f1aa-cc9b-4df7-e2c2-95ed15440d66"
      },
      "source": [
        "lista_fill=[]\n",
        "for i in range(0,20):\n",
        "  lista_fill.append(i)\n",
        "lista_fill"
      ],
      "execution_count": 4,
      "outputs": [
        {
          "output_type": "execute_result",
          "data": {
            "text/plain": [
              "[0, 1, 2, 3, 4, 5, 6, 7, 8, 9, 10, 11, 12, 13, 14, 15, 16, 17, 18, 19]"
            ]
          },
          "metadata": {
            "tags": []
          },
          "execution_count": 4
        }
      ]
    },
    {
      "cell_type": "code",
      "metadata": {
        "id": "-OTw4eG0FUR_"
      },
      "source": [
        "index=0\n",
        "while index < len"
      ],
      "execution_count": null,
      "outputs": []
    },
    {
      "cell_type": "code",
      "metadata": {
        "colab": {
          "base_uri": "https://localhost:8080/"
        },
        "id": "y5RduQCmFZTg",
        "outputId": "e9ba0658-7029-4ea4-8763-414c4ea55fe1"
      },
      "source": [
        "intervalo = 4\n",
        "contador = 0\n",
        "split_list = []\n",
        "\n",
        "while contador < len(lista_fill):\n",
        "  split_list.append(lista_fill[contador:contador+intervalo])\n",
        "  contador += intervalo\n",
        "print(split_list)"
      ],
      "execution_count": 5,
      "outputs": [
        {
          "output_type": "stream",
          "text": [
            "[[0, 1, 2, 3], [4, 5, 6, 7], [8, 9, 10, 11], [12, 13, 14, 15], [16, 17, 18, 19]]\n"
          ],
          "name": "stdout"
        }
      ]
    },
    {
      "cell_type": "markdown",
      "metadata": {
        "id": "EOljUZ2NO8kJ"
      },
      "source": [
        "# **Funciones**"
      ]
    },
    {
      "cell_type": "code",
      "metadata": {
        "id": "Z9N2VuqLFIwM"
      },
      "source": [
        ""
      ],
      "execution_count": null,
      "outputs": []
    },
    {
      "cell_type": "code",
      "metadata": {
        "id": "-Z1x7GHSNQLh"
      },
      "source": [
        "def get_list():\n",
        "  for index in range(0, len(lista_compleja)-1):\n",
        "    if type(lista_compleja[index]) == list:\n",
        "      a = lista_compleja[index]"
      ],
      "execution_count": null,
      "outputs": []
    },
    {
      "cell_type": "markdown",
      "metadata": {
        "id": "NQlFLnwqGmkx"
      },
      "source": [
        "# **Diccionarios**"
      ]
    },
    {
      "cell_type": "markdown",
      "metadata": {
        "id": "5eTBX2ofGrt9"
      },
      "source": [
        "Es una estructura de datos en Pyhton que almacena diferentes tipos de datos y sus valores son obtenidos por keys "
      ]
    },
    {
      "cell_type": "code",
      "metadata": {
        "id": "gBeHZfKfHSCa"
      },
      "source": [
        "diccionario = {'nombre': 'Nestor', 'edad': 22, 'curso': 'Python'}"
      ],
      "execution_count": 6,
      "outputs": []
    },
    {
      "cell_type": "code",
      "metadata": {
        "colab": {
          "base_uri": "https://localhost:8080/"
        },
        "id": "wmGXv4PkHoSQ",
        "outputId": "49891b9d-1875-4057-88d2-a14502b07b73"
      },
      "source": [
        "type(diccionario)"
      ],
      "execution_count": 7,
      "outputs": [
        {
          "output_type": "execute_result",
          "data": {
            "text/plain": [
              "dict"
            ]
          },
          "metadata": {
            "tags": []
          },
          "execution_count": 7
        }
      ]
    },
    {
      "cell_type": "code",
      "metadata": {
        "id": "WIcZ3FhBHqFe"
      },
      "source": [
        "diccionario2 = dict(nombre = 'Nestor', edad = 22, curso = 'Python')"
      ],
      "execution_count": 9,
      "outputs": []
    },
    {
      "cell_type": "code",
      "metadata": {
        "colab": {
          "base_uri": "https://localhost:8080/"
        },
        "id": "6HhOWAckH8A4",
        "outputId": "d47e193e-a618-4c16-9ca9-e42a237185ea"
      },
      "source": [
        "diccionario.keys()"
      ],
      "execution_count": 10,
      "outputs": [
        {
          "output_type": "execute_result",
          "data": {
            "text/plain": [
              "dict_keys(['nombre', 'edad', 'curso'])"
            ]
          },
          "metadata": {
            "tags": []
          },
          "execution_count": 10
        }
      ]
    },
    {
      "cell_type": "code",
      "metadata": {
        "colab": {
          "base_uri": "https://localhost:8080/"
        },
        "id": "l0CT2NInIGQA",
        "outputId": "d830f566-d73f-4fcd-b2ef-8fd9991fc7e4"
      },
      "source": [
        "diccionario.values()"
      ],
      "execution_count": 11,
      "outputs": [
        {
          "output_type": "execute_result",
          "data": {
            "text/plain": [
              "dict_values(['Nestor', 22, 'Python'])"
            ]
          },
          "metadata": {
            "tags": []
          },
          "execution_count": 11
        }
      ]
    },
    {
      "cell_type": "code",
      "metadata": {
        "colab": {
          "base_uri": "https://localhost:8080/"
        },
        "id": "nhGO-MsfIgCf",
        "outputId": "57b605c5-bd8f-41e7-a153-2db8f3afc167"
      },
      "source": [
        "len(diccionario)"
      ],
      "execution_count": 12,
      "outputs": [
        {
          "output_type": "execute_result",
          "data": {
            "text/plain": [
              "3"
            ]
          },
          "metadata": {
            "tags": []
          },
          "execution_count": 12
        }
      ]
    },
    {
      "cell_type": "code",
      "metadata": {
        "colab": {
          "base_uri": "https://localhost:8080/"
        },
        "id": "OqRF51KCIqlJ",
        "outputId": "567d39c5-53ff-4ead-af55-04d9832e2e5c"
      },
      "source": [
        "for key in diccionario.keys():\n",
        "  print(diccionario[key])"
      ],
      "execution_count": 13,
      "outputs": [
        {
          "output_type": "stream",
          "text": [
            "Nestor\n",
            "22\n",
            "Python\n"
          ],
          "name": "stdout"
        }
      ]
    },
    {
      "cell_type": "code",
      "metadata": {
        "id": "vrQUj6ViJE22"
      },
      "source": [
        "import requests"
      ],
      "execution_count": 14,
      "outputs": []
    },
    {
      "cell_type": "code",
      "metadata": {
        "colab": {
          "base_uri": "https://localhost:8080/"
        },
        "id": "vjjNt17vJcdy",
        "outputId": "f02c5ba9-7519-4c3f-bf25-3d513a15cf2c"
      },
      "source": [
        "url=\"https://pokeapi.co/api/v2/pokemon/144\"\n",
        "response = requests.get(url)\n",
        "response"
      ],
      "execution_count": 16,
      "outputs": [
        {
          "output_type": "stream",
          "text": [
            "<Response [200]>\n"
          ],
          "name": "stdout"
        }
      ]
    },
    {
      "cell_type": "code",
      "metadata": {
        "id": "n-UX9mpGKZT0"
      },
      "source": [
        "dict_pokemon = response.json()\n",
        "dict_pokemon"
      ],
      "execution_count": null,
      "outputs": []
    },
    {
      "cell_type": "code",
      "metadata": {
        "id": "fC1GqFv4KjhT"
      },
      "source": [
        "dict_pokemon.keys()"
      ],
      "execution_count": null,
      "outputs": []
    },
    {
      "cell_type": "code",
      "metadata": {
        "id": "yYQi1YDSLUNu"
      },
      "source": [
        "dict_pokemon['forms']"
      ],
      "execution_count": null,
      "outputs": []
    },
    {
      "cell_type": "code",
      "metadata": {
        "id": "2bRs0HDRLbw2"
      },
      "source": [
        "diccionario_arm = {\n",
        "    \"$schema\": \"https://schema.management.azure.com/schemas/2019-04-01/deploymentTemplate.json\",\n",
        "    \"contentVersion\": \"1.0.0.0\",\n",
        "    \"parameters\": {\n",
        "        \"nombreStorage\": {\n",
        "            \"type\": \"String\",\n",
        "            \"minLength\": 3,\n",
        "            \"maxLength\": 24\n",
        "        }\n",
        "        \n",
        "\n",
        "    },\n",
        "    \"resources\": [\n",
        "        {\n",
        "            \"type\": \"Microsoft.Storage/storageAccounts\",\n",
        "            \"apiVersion\": \"2021-04-01\",\n",
        "            \"name\": \"appconarmtemplate\",\n",
        "            \"location\": \"South Central US\",\n",
        "            \"sku\":{\n",
        "                \"name\": \"Standard_LRS\"\n",
        "            },\n",
        "            \"kind\": \"StorageV2\",\n",
        "            \"properties\": {\n",
        "                \"supportsHttpsTrafficOnly\": True\n",
        "            }\n",
        "\n",
        "        }\n",
        "    ]\n",
        "}"
      ],
      "execution_count": 21,
      "outputs": []
    },
    {
      "cell_type": "code",
      "metadata": {
        "id": "linb88m1OCUu"
      },
      "source": [
        "diccionario_arm.keys()"
      ],
      "execution_count": null,
      "outputs": []
    },
    {
      "cell_type": "code",
      "metadata": {
        "id": "y_JoyTeIOIl6"
      },
      "source": [
        "diccionario_arm['resources']"
      ],
      "execution_count": null,
      "outputs": []
    },
    {
      "cell_type": "code",
      "metadata": {
        "id": "NgPG7GKgOMk-"
      },
      "source": [
        "diccionario_arm['resources'][0]['location'] = "
      ],
      "execution_count": null,
      "outputs": []
    },
    {
      "cell_type": "markdown",
      "metadata": {
        "id": "06R7w8x3PVQh"
      },
      "source": [
        "Tuplas: Es una estructura de datos inmutables, almacena valores de cualquier tipo de dato"
      ]
    },
    {
      "cell_type": "code",
      "metadata": {
        "id": "1b6fiGizPcga"
      },
      "source": [
        "tupla = (1,2,3,4,4,3)"
      ],
      "execution_count": 32,
      "outputs": []
    },
    {
      "cell_type": "code",
      "metadata": {
        "colab": {
          "base_uri": "https://localhost:8080/"
        },
        "id": "tNntf_GUPfYf",
        "outputId": "bc5258d3-4033-4394-a11e-bf51a806d2ad"
      },
      "source": [
        "tupla.count(4)"
      ],
      "execution_count": 33,
      "outputs": [
        {
          "output_type": "execute_result",
          "data": {
            "text/plain": [
              "2"
            ]
          },
          "metadata": {
            "tags": []
          },
          "execution_count": 33
        }
      ]
    },
    {
      "cell_type": "code",
      "metadata": {
        "colab": {
          "base_uri": "https://localhost:8080/"
        },
        "id": "fEC03vPuPn7L",
        "outputId": "bab40d0d-24c9-4392-f35c-67480cf4d7d6"
      },
      "source": [
        "for i in tupla:\n",
        "  print(i)\n",
        "  "
      ],
      "execution_count": 34,
      "outputs": [
        {
          "output_type": "stream",
          "text": [
            "1\n",
            "2\n",
            "3\n",
            "4\n",
            "4\n",
            "3\n"
          ],
          "name": "stdout"
        }
      ]
    },
    {
      "cell_type": "code",
      "metadata": {
        "id": "v4HSqjU8QPAD"
      },
      "source": [
        ""
      ],
      "execution_count": null,
      "outputs": []
    }
  ]
}